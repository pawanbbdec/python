{
 "cells": [
  {
   "cell_type": "code",
   "execution_count": 1,
   "metadata": {},
   "outputs": [],
   "source": [
    "from dputils import scrape\n"
   ]
  },
  {
   "cell_type": "code",
   "execution_count": 2,
   "metadata": {},
   "outputs": [],
   "source": [
    "soup = scrape.get_webpage_data(\"https://www.geeksforgeeks.org/python-object/\")"
   ]
  },
  {
   "cell_type": "code",
   "execution_count": 3,
   "metadata": {},
   "outputs": [
    {
     "data": {
      "text/plain": [
       "<title>Python object - GeeksforGeeks</title>"
      ]
     },
     "execution_count": 3,
     "metadata": {},
     "output_type": "execute_result"
    }
   ],
   "source": [
    "soup.title"
   ]
  },
  {
   "cell_type": "code",
   "execution_count": 4,
   "metadata": {},
   "outputs": [
    {
     "data": {
      "text/plain": [
       "<h1>Python object</h1>"
      ]
     },
     "execution_count": 4,
     "metadata": {},
     "output_type": "execute_result"
    }
   ],
   "source": [
    "soup.h1"
   ]
  },
  {
   "cell_type": "code",
   "execution_count": 5,
   "metadata": {},
   "outputs": [
    {
     "data": {
      "text/plain": [
       "'Python object - GeeksforGeeks'"
      ]
     },
     "execution_count": 5,
     "metadata": {},
     "output_type": "execute_result"
    }
   ],
   "source": [
    "soup.title.text"
   ]
  },
  {
   "cell_type": "code",
   "execution_count": 6,
   "metadata": {},
   "outputs": [
    {
     "data": {
      "text/plain": [
       "'Python object'"
      ]
     },
     "execution_count": 6,
     "metadata": {},
     "output_type": "execute_result"
    }
   ],
   "source": [
    "soup.h1.text"
   ]
  },
  {
   "cell_type": "code",
   "execution_count": 7,
   "metadata": {},
   "outputs": [],
   "source": [
    "soup = scrape.get_webpage_data(\"https://www.ndtv.com/latest\")"
   ]
  },
  {
   "cell_type": "code",
   "execution_count": 8,
   "metadata": {},
   "outputs": [],
   "source": [
    "t = {'tag' : 'div','attrs': {'class' : 'lisingNews'}}\n",
    "items = {'tag' : 'div','attrs': {'class' : 'news_Itm'}}\n",
    "title = {'tag' : 'h2','attrs': {'class' : 'newsHdng'}}\n",
    "deet = {'tag' : 'span', 'attrs': {'class':'posted-by'}}\n",
    "summary = {'tag' : 'p', 'attrs': {'class':'newsCont'}}"
   ]
  },
  {
   "cell_type": "code",
   "execution_count": 9,
   "metadata": {},
   "outputs": [
    {
     "name": "stdout",
     "output_type": "stream",
     "text": [
      "17 items found\n",
      "Item skipped at index: 3\n",
      "Item skipped at index: 7\n",
      "All items extracted\n",
      "[{'details': 'Somdatta Saha   | Thursday September 08, 2022',\n",
      "  'summary': 'Keeping up with the tradition, Malaika recently took to '\n",
      "             'Instagram to share a story featuring her Onam-special meal.',\n",
      "  'title': 'Onam 2022: Malaika Arora Enjoys Traditional Onam Sadhya - See Pic'},\n",
      " {'details': 'Manya Singh   | Thursday September 08, 2022',\n",
      "  'summary': \"Haircare: Let's discuss the most common myths about shampooing \"\n",
      "             \"and understand what's the truth.\",\n",
      "  'title': 'Haircare: Dr. Jaishree Sharad Debunks 4 Most Common Myths About '\n",
      "           'Shampooing'},\n",
      " {'details': 'Written by Dhruv Raghav , Edited by David Delima  | Thursday '\n",
      "             'September 08, 2022',\n",
      "  'summary': 'iQoo Z6 Lite 5G is set to debut in India on September 14. Ahead '\n",
      "             'of its launch, the microsite of the phone has been updated to '\n",
      "             'reveal additional specifications of the handset. It is confirmed '\n",
      "             'to pack a 5,000mAh battery with 18W charging support. It will be '\n",
      "             '8.25mm in thickness, and will feature 2.5D flat frame design. '\n",
      "             'The upcoming iQoo handset will also sport a 50-megapixel rear '\n",
      "             'camera.',\n",
      "  'title': 'iQoo Z6 Lite 5G Confirmed to Feature 5,000mAh Battery, '\n",
      "           '50-Megapixel Rear Camera Ahead of Launch: All Details'},\n",
      " {'details': 'Press Trust of India   | Thursday September 08, 2022, New Delhi',\n",
      "  'summary': '\"The film didn\\'t run at the box office, it is probably because '\n",
      "             'the audience didn\\'t like the film,\" said Ranbir Kapoor',\n",
      "  'title': 'Ranbir Kapoor On Shamshera: \"If A Film Doesn\\'t Work, It\\'s '\n",
      "           'Because Content Is Not Good\"'},\n",
      " {'details': 'Priyaja Bakshi   | Thursday September 08, 2022',\n",
      "  'summary': 'We have found a way to prepare cupcakes in the pressure cooker, '\n",
      "             'a utensil that almost every Indian kitchen has!',\n",
      "  'title': 'Prepare Cupcake At Home Without An Oven With This Easy Recipe'},\n",
      " {'details': 'Agence France-Presse   | Thursday September 08, 2022, New York',\n",
      "  'summary': \"Donald Trump's former advisor Steve Bannon is due to appear in \"\n",
      "             'court Thursday to be charged with fraud in a case of alleged '\n",
      "             'misappropriation of funds for the construction of a wall between '\n",
      "             'the United States and Mexico.',\n",
      "  'title': \"Donald Trump's Ex-Advisor To Face Fraud Charges In US-Mexico \"\n",
      "           'Border Wall Case'},\n",
      " {'details': 'Asian News International   | Thursday September 08, 2022',\n",
      "  'summary': 'The All-India Senior Selection Committee has named Deepak Chahar '\n",
      "             \"as a replacement for Avesh Khan for Team India's final fixture \"\n",
      "             'in the ongoing Asia Cup 2022.',\n",
      "  'title': \"Deepak Chahar Replaces Avesh Khan In India's Asia Cup Squad\"},\n",
      " {'details': 'Written by Rahul Chettiyar , Edited by Akhil Arora,David Delima  '\n",
      "             '| Thursday September 08, 2022',\n",
      "  'summary': 'Sony has completely revamped the internals of its newly revised '\n",
      "             'PS5, as confirmed in a teardown video. Tech YouTuber Austin '\n",
      "             'Evans peeled open the new, Australian CF-1200 PS5 model, to '\n",
      "             'reveal a smaller heatsink and motherboard. The SSD enclosure has '\n",
      "             'also been changed, and it draws 20–30W less power. The revamp '\n",
      "             'comes in the wake of Sony raising the prices for the PlayStation '\n",
      "             '5 in select regions around the world.',\n",
      "  'title': 'PS5 Revised: Sony Quietly Updated PlayStation 5 From the Inside, '\n",
      "           'Teardown Reveals'},\n",
      " {'details': 'Written by Nithya P Nair , Edited by Siddharth Suvarna  | '\n",
      "             'Thursday September 08, 2022',\n",
      "  'summary': 'iPhone users will no longer need an Apple Watch to use the Apple '\n",
      "             'Fitness+. The fitness service will be available on iPhone in 21 '\n",
      "             'countries later this year. Apple will release new seasons of '\n",
      "             'Time to Walk and Time to Run this fall including stories from '\n",
      "             'known artists and celebrities.',\n",
      "  'title': 'Apple Fitness+ Will Soon Work on iPhone Without an Apple Watch, to '\n",
      "           'Be Available in 21 Countries Later This Year'},\n",
      " {'details': 'Jayalakshmi Sagolsem   | Thursday September 08, 2022',\n",
      "  'summary': 'Singapore Food Festival is hosted by the Singapore Tourism Board '\n",
      "             '(STB) and DLF Malls in Delhi from 27th August to 11th September '\n",
      "             '2022.',\n",
      "  'title': 'Relish Authentic Singaporean Cuisine At The Singapore Food '\n",
      "           'Festival In Delhi'},\n",
      " {'details': 'Reuters   | Thursday September 08, 2022, MUMBAI',\n",
      "  'summary': 'The exporters should wait for the dollar to pullback from its '\n",
      "             'recent high before hedging their future receipts in currencies '\n",
      "             'other than the greenback, analysts said on Thursday.',\n",
      "  'title': \"Exporters Shouldn't Rush To Hedge Non-Dollar Exposure: Report\"},\n",
      " {'details': 'NDTV Sports Desk   | Thursday September 08, 2022',\n",
      "  'summary': 'IND vs AFG, Live Streaming: It will be interesting to see what '\n",
      "             'team combination India goes in with for clash against '\n",
      "             'Afghanistan.',\n",
      "  'title': 'India vs Afghanistan, Live Streaming: When And Where To Watch Live '\n",
      "           'Telecast, Live Score'},\n",
      " {'details': 'Abhimanyu Bose   | Thursday September 08, 2022',\n",
      "  'summary': 'US Open 2022: Carlos Alcaraz showed off his skills during his '\n",
      "             'intense quarter-final win over Jannik Sinner.',\n",
      "  'title': 'Watch: Carlos Alcaraz Wins \"Point Of The Tournament\" With '\n",
      "           'Behind-The-Back Shot In US Open Quarter-Final'},\n",
      " {'details': 'Written by Adarsh Srivastava  | Thursday September 08, 2022',\n",
      "  'summary': 'The Indian Institute of Foreign Trade (IIFT) has launched '\n",
      "             '\"Diploma in International Trade\" programme for 2022-23 academic '\n",
      "             'session.',\n",
      "  'title': 'IIFT Launches \"Diploma in International Trade\" Programme; Details '\n",
      "           'Here'},\n",
      " {'details': 'Agence France-Presse   | Thursday September 08, 2022',\n",
      "  'summary': \"Graham Potter has agreed in principle to become Chelsea's new \"\n",
      "             'manager after the shock sacking of Thomas Tuchel, according to a '\n",
      "             'report on Thursday',\n",
      "  'title': 'Graham Potter \"Verbally Agrees\" To Become New Chelsea Boss: '\n",
      "           'Report'}]\n"
     ]
    }
   ],
   "source": [
    "result = scrape.extract_many(soup, target = t ,items = items, title = title, details = deet, summary = summary)\n",
    "\n",
    "from pprint import pprint\n",
    "pprint(result)"
   ]
  },
  {
   "cell_type": "code",
   "execution_count": null,
   "metadata": {},
   "outputs": [],
   "source": []
  }
 ],
 "metadata": {
  "kernelspec": {
   "display_name": "Python 3.9.12 ('base')",
   "language": "python",
   "name": "python3"
  },
  "language_info": {
   "codemirror_mode": {
    "name": "ipython",
    "version": 3
   },
   "file_extension": ".py",
   "mimetype": "text/x-python",
   "name": "python",
   "nbconvert_exporter": "python",
   "pygments_lexer": "ipython3",
   "version": "3.9.13"
  },
  "orig_nbformat": 4,
  "vscode": {
   "interpreter": {
    "hash": "70f018fd7121d982665974a4a43426885471417973fa08103dfbe522c14d001e"
   }
  }
 },
 "nbformat": 4,
 "nbformat_minor": 2
}
