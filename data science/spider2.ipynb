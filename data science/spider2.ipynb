{
 "cells": [
  {
   "cell_type": "code",
   "execution_count": 1,
   "metadata": {},
   "outputs": [],
   "source": [
    "#https://pypi.org/project/dputils/\n",
    "\n",
    "# 3. exract_many\n",
    "\n",
    "#References for more help: https://github.com/digipodium/dputils\n",
    "\n",
    "\n",
    "from dputils.scrape import extract_many, get_webpage_data"
   ]
  },
  {
   "cell_type": "code",
   "execution_count": 2,
   "metadata": {},
   "outputs": [],
   "source": [
    "url = \"https://www.flipkart.com/search?q=mobiles&otracker=search&otracker1=search&marketplace=FLIPKART&as-show=on&as=off\"\n",
    "soup = get_webpage_data(url)"
   ]
  },
  {
   "cell_type": "code",
   "execution_count": 3,
   "metadata": {},
   "outputs": [],
   "source": [
    "target = {\n",
    "'tag': 'div',\n",
    "'attrs':{'class':'_1YokD2 _3Mn1Gg'}\n",
    "}\n",
    "items = {\n",
    "    'tag': 'div',\n",
    "    'attrs':{'class':'_1AtVbE col-12-12'}\n",
    "}\n",
    "title = {\n",
    "    'tag': 'div',\n",
    "    'attrs':{'class':'_4rR01T'}\n",
    "}\n",
    "price = {\n",
    "    'tag': 'div',\n",
    "    'attrs':{'class':'_30jeq3 _1_WHN1'}\n",
    "}\n",
    "rating = {\n",
    "    'tag': 'div',\n",
    "    'attrs':{'class':'_3LWZlK'}\n",
    "}\n",
    "link = {\n",
    "    'tag': 'a',\n",
    "    'attrs':{'class':'_1fQZEK'},\n",
    "    'output':'href'\n",
    "}"
   ]
  },
  {
   "cell_type": "code",
   "execution_count": 4,
   "metadata": {},
   "outputs": [
    {
     "name": "stdout",
     "output_type": "stream",
     "text": [
      "26 items found\n",
      "Item skipped at index: 3\n",
      "Item skipped at index: 24\n",
      "Item skipped at index: 25\n",
      "All items extracted\n",
      "[{'title': 'Infinix HOT 12 Play (Horizon Blue, 64 GB)', 'price': '₹8,199', 'rating': '4.3', 'link': '/infinix-hot-12-play-horizon-blue-64-gb/p/itmd9c1091d0a662?pid=MOBGE2KYCFZA7BRB&lid=LSTMOBGE2KYCFZA7BRBUNTJVL&marketplace=FLIPKART&q=mobiles&store=tyy%2F4io&srno=s_1_1&otracker=search&otracker1=search&fm=organic&iid=99b9d46e-a15b-4807-86e0-048a6b3bcc66.MOBGE2KYCFZA7BRB.SEARCH&ppt=None&ppn=None&ssid=e5cg05rzk00000001663579597782&qH=eb4af0bf07c16429'}, {'title': 'REDMI 9i Sport (Metallic Blue, 64 GB)', 'price': '₹7,999', 'rating': '4.4', 'link': '/redmi-9i-sport-metallic-blue-64-gb/p/itmeb95d0b4616cc?pid=MOBG6WQWQZZMGQCU&lid=LSTMOBG6WQWQZZMGQCUPYXGVY&marketplace=FLIPKART&q=mobiles&store=tyy%2F4io&srno=s_1_2&otracker=search&otracker1=search&fm=organic&iid=99b9d46e-a15b-4807-86e0-048a6b3bcc66.MOBG6WQWQZZMGQCU.SEARCH&ppt=None&ppn=None&ssid=e5cg05rzk00000001663579597782&qH=eb4af0bf07c16429'}, {'title': 'Infinix HOT 12 Play (Daylight Green, 64 GB)', 'price': '₹8,199', 'rating': '4.3', 'link': '/infinix-hot-12-play-daylight-green-64-gb/p/itmd9c1091d0a662?pid=MOBGE2KY6JUTSNCP&lid=LSTMOBGE2KY6JUTSNCPGWOMYY&marketplace=FLIPKART&q=mobiles&store=tyy%2F4io&srno=s_1_3&otracker=search&otracker1=search&fm=organic&iid=99b9d46e-a15b-4807-86e0-048a6b3bcc66.MOBGE2KY6JUTSNCP.SEARCH&ppt=None&ppn=None&ssid=e5cg05rzk00000001663579597782&qH=eb4af0bf07c16429'}, {'title': 'Infinix HOT 12 Play (Racing Black, 64 GB)', 'price': '₹8,199', 'rating': '4.3', 'link': '/infinix-hot-12-play-racing-black-64-gb/p/itmd9c1091d0a662?pid=MOBGE2KYNTFHTXUW&lid=LSTMOBGE2KYNTFHTXUWDFJ0XM&marketplace=FLIPKART&q=mobiles&store=tyy%2F4io&srno=s_1_5&otracker=search&otracker1=search&fm=organic&iid=99b9d46e-a15b-4807-86e0-048a6b3bcc66.MOBGE2KYNTFHTXUW.SEARCH&ppt=None&ppn=None&ssid=e5cg05rzk00000001663579597782&qH=eb4af0bf07c16429'}, {'title': 'Infinix HOT 12 Play (Champagne Gold, 64 GB)', 'price': '₹8,199', 'rating': '4.3', 'link': '/infinix-hot-12-play-champagne-gold-64-gb/p/itmd9c1091d0a662?pid=MOBGE2KYE4DA7ZPF&lid=LSTMOBGE2KYE4DA7ZPFIXECD0&marketplace=FLIPKART&q=mobiles&store=tyy%2F4io&srno=s_1_6&otracker=search&otracker1=search&fm=organic&iid=99b9d46e-a15b-4807-86e0-048a6b3bcc66.MOBGE2KYE4DA7ZPF.SEARCH&ppt=None&ppn=None&ssid=e5cg05rzk00000001663579597782&qH=eb4af0bf07c16429'}, {'title': 'REDMI 9i Sport (Coral Green, 64 GB)', 'price': '₹7,999', 'rating': '4.4', 'link': '/redmi-9i-sport-coral-green-64-gb/p/itmb5e8d8186b602?pid=MOBG6WQWJRFZ5WDG&lid=LSTMOBG6WQWJRFZ5WDGO4EIDO&marketplace=FLIPKART&q=mobiles&store=tyy%2F4io&srno=s_1_7&otracker=search&otracker1=search&fm=organic&iid=99b9d46e-a15b-4807-86e0-048a6b3bcc66.MOBG6WQWJRFZ5WDG.SEARCH&ppt=None&ppn=None&ssid=e5cg05rzk00000001663579597782&qH=eb4af0bf07c16429'}, {'title': 'IAIR D40', 'price': '₹1,319', 'rating': '3.9', 'link': '/iair-d40/p/itm253472ba19c6b?pid=MOBGCNZF3VZHZJZR&lid=LSTMOBGCNZF3VZHZJZROV1MTC&marketplace=FLIPKART&q=mobiles&store=tyy%2F4io&srno=s_1_8&otracker=search&otracker1=search&fm=organic&iid=en_f6jqYDYbNJdmDlxpKR9cEs9cz0uX%2F5E9wXYsm3dApDQwlWGu1VOivP%2FHKT%2FjSblUxAZnM4WUT6omXT4VbN%2FcqQ%3D%3D&ppt=None&ppn=None&ssid=e5cg05rzk00000001663579597782&qH=eb4af0bf07c16429'}, {'title': 'OPPO K10 (Black Carbon, 128 GB)', 'price': '₹13,490', 'rating': '4.4', 'link': '/oppo-k10-black-carbon-128-gb/p/itm6205e7e72fe0c?pid=MOBGCFUHMDFSCM9W&lid=LSTMOBGCFUHMDFSCM9WSL0U8O&marketplace=FLIPKART&q=mobiles&store=tyy%2F4io&srno=s_1_9&otracker=search&otracker1=search&fm=organic&iid=99b9d46e-a15b-4807-86e0-048a6b3bcc66.MOBGCFUHMDFSCM9W.SEARCH&ppt=None&ppn=None&ssid=e5cg05rzk00000001663579597782&qH=eb4af0bf07c16429'}, {'title': 'OPPO K10 (Blue Flame, 128 GB)', 'price': '₹13,490', 'rating': '4.4', 'link': '/oppo-k10-blue-flame-128-gb/p/itm6205e7e72fe0c?pid=MOBGCFUHQAG5GDQS&lid=LSTMOBGCFUHQAG5GDQSSCVTKH&marketplace=FLIPKART&q=mobiles&store=tyy%2F4io&srno=s_1_10&otracker=search&otracker1=search&fm=organic&iid=99b9d46e-a15b-4807-86e0-048a6b3bcc66.MOBGCFUHQAG5GDQS.SEARCH&ppt=None&ppn=None&ssid=e5cg05rzk00000001663579597782&qH=eb4af0bf07c16429'}, {'title': 'REDMI 9i Sport (Carbon Black, 64 GB)', 'price': '₹7,999', 'rating': '4.4', 'link': '/redmi-9i-sport-carbon-black-64-gb/p/itm17ed463dc779a?pid=MOBG6WQWRGRRDBH6&lid=LSTMOBG6WQWRGRRDBH6BCUNBA&marketplace=FLIPKART&q=mobiles&store=tyy%2F4io&srno=s_1_11&otracker=search&otracker1=search&fm=organic&iid=99b9d46e-a15b-4807-86e0-048a6b3bcc66.MOBG6WQWRGRRDBH6.SEARCH&ppt=None&ppn=None&ssid=e5cg05rzk00000001663579597782&qH=eb4af0bf07c16429'}, {'title': 'IAIR D41', 'price': '₹1,319', 'rating': '3.7', 'link': '/iair-d41/p/itm0b7495cebc66e?pid=MOBGCNZQMEYADXKH&lid=LSTMOBGCNZQMEYADXKHU6I8G1&marketplace=FLIPKART&q=mobiles&store=tyy%2F4io&srno=s_1_12&otracker=search&otracker1=search&fm=organic&iid=en_f6jqYDYbNJdmDlxpKR9cEs9cz0uX%2F5E9wXYsm3dApDSr2zr0u0TR6tcxfa4k05sFAISz%2BLIvQtLyjHL3fjYkPw%3D%3D&ppt=None&ppn=None&ssid=e5cg05rzk00000001663579597782&qH=eb4af0bf07c16429'}, {'title': 'SAMSUNG Galaxy F23 5G (Copper Blush, 128 GB)', 'price': '₹13,499', 'rating': '4.2', 'link': '/samsung-galaxy-f23-5g-copper-blush-128-gb/p/itm59c8bf3255ef6?pid=MOBGE2ZU2YBUAEVZ&lid=LSTMOBGE2ZU2YBUAEVZCKFQ6T&marketplace=FLIPKART&q=mobiles&store=tyy%2F4io&srno=s_1_13&otracker=search&otracker1=search&fm=organic&iid=99b9d46e-a15b-4807-86e0-048a6b3bcc66.MOBGE2ZU2YBUAEVZ.SEARCH&ppt=None&ppn=None&ssid=e5cg05rzk00000001663579597782&qH=eb4af0bf07c16429'}, {'title': 'SAMSUNG Galaxy F23 5G (Forest Green, 128 GB)', 'price': '₹13,499', 'rating': '4.2', 'link': '/samsung-galaxy-f23-5g-forest-green-128-gb/p/itm4001e68fda319?pid=MOBGBKQF3QM4GHWN&lid=LSTMOBGBKQF3QM4GHWNEXFBQE&marketplace=FLIPKART&q=mobiles&store=tyy%2F4io&srno=s_1_14&otracker=search&otracker1=search&fm=organic&iid=99b9d46e-a15b-4807-86e0-048a6b3bcc66.MOBGBKQF3QM4GHWN.SEARCH&ppt=None&ppn=None&ssid=e5cg05rzk00000001663579597782&qH=eb4af0bf07c16429'}, {'title': 'Infinix Smart 6 HD (Aqua Sky, 32 GB)', 'price': '₹6,199', 'rating': '4.6', 'link': '/infinix-smart-6-hd-aqua-sky-32-gb/p/itme9743e28b0cf7?pid=MOBGGMHWZZR7GB6R&lid=LSTMOBGGMHWZZR7GB6R7FNENW&marketplace=FLIPKART&q=mobiles&store=tyy%2F4io&srno=s_1_15&otracker=search&otracker1=search&fm=organic&iid=99b9d46e-a15b-4807-86e0-048a6b3bcc66.MOBGGMHWZZR7GB6R.SEARCH&ppt=None&ppn=None&ssid=e5cg05rzk00000001663579597782&qH=eb4af0bf07c16429'}, {'title': 'IAIR D24', 'price': '₹1,128', 'rating': '3.8', 'link': '/iair-d24/p/itmebf306660cf33?pid=MOBG9PVRXGNUWPF5&lid=LSTMOBG9PVRXGNUWPF5Q2XTTZ&marketplace=FLIPKART&q=mobiles&store=tyy%2F4io&srno=s_1_16&otracker=search&otracker1=search&fm=organic&iid=en_f6jqYDYbNJdmDlxpKR9cEs9cz0uX%2F5E9wXYsm3dApDQmYtneCGr8OrL083w44BUj3IK49ZoHAt3lqtcIrHx1pg%3D%3D&ppt=None&ppn=None&ssid=e5cg05rzk00000001663579597782&qH=eb4af0bf07c16429'}, {'title': 'Infinix Smart 6 HD (Origin Blue, 32 GB)', 'price': '₹6,199', 'rating': '4.6', 'link': '/infinix-smart-6-hd-origin-blue-32-gb/p/itme9743e28b0cf7?pid=MOBGGMHWHDPHYSNX&lid=LSTMOBGGMHWHDPHYSNX0ZW5L4&marketplace=FLIPKART&q=mobiles&store=tyy%2F4io&srno=s_1_17&otracker=search&otracker1=search&fm=organic&iid=99b9d46e-a15b-4807-86e0-048a6b3bcc66.MOBGGMHWHDPHYSNX.SEARCH&ppt=None&ppn=None&ssid=e5cg05rzk00000001663579597782&qH=eb4af0bf07c16429'}, {'title': 'SAMSUNG Galaxy F23 5G (Aqua Blue, 128 GB)', 'price': '₹13,499', 'rating': '4.2', 'link': '/samsung-galaxy-f23-5g-aqua-blue-128-gb/p/itme54bc0c2292f4?pid=MOBGBKQF45XPEUHA&lid=LSTMOBGBKQF45XPEUHATCA8X7&marketplace=FLIPKART&q=mobiles&store=tyy%2F4io&srno=s_1_18&otracker=search&otracker1=search&fm=organic&iid=99b9d46e-a15b-4807-86e0-048a6b3bcc66.MOBGBKQF45XPEUHA.SEARCH&ppt=None&ppn=None&ssid=e5cg05rzk00000001663579597782&qH=eb4af0bf07c16429'}, {'title': 'realme C31 (Light Silver, 32 GB)', 'price': '₹8,299', 'rating': '4.6', 'link': '/realme-c31-light-silver-32-gb/p/itme0f2960da9bbb?pid=MOBGCGVA3DANQNQH&lid=LSTMOBGCGVA3DANQNQHVUTE0C&marketplace=FLIPKART&q=mobiles&store=tyy%2F4io&srno=s_1_19&otracker=search&otracker1=search&fm=organic&iid=99b9d46e-a15b-4807-86e0-048a6b3bcc66.MOBGCGVA3DANQNQH.SEARCH&ppt=None&ppn=None&ssid=e5cg05rzk00000001663579597782&qH=eb4af0bf07c16429'}, {'title': 'IAIR D23', 'price': '₹1,097', 'rating': '4.1', 'link': '/iair-d23/p/itmfde8fc33dc954?pid=MOBGCNZNZVWYSDGH&lid=LSTMOBGCNZNZVWYSDGH98HP1Z&marketplace=FLIPKART&q=mobiles&store=tyy%2F4io&srno=s_1_20&otracker=search&otracker1=search&fm=organic&iid=en_f6jqYDYbNJdmDlxpKR9cEs9cz0uX%2F5E9wXYsm3dApDSR85o9S6YJCDyRKwxNPTsRn1%2FVpZOvmZlARc6%2FWge%2F8A%3D%3D&ppt=None&ppn=None&ssid=e5cg05rzk00000001663579597782&qH=eb4af0bf07c16429'}, {'title': 'realme C31 (Dark Green, 32 GB)', 'price': '₹8,299', 'rating': '4.6', 'link': '/realme-c31-dark-green-32-gb/p/itme0f2960da9bbb?pid=MOBGCGVAXYT3EGYR&lid=LSTMOBGCGVAXYT3EGYRKW4CXL&marketplace=FLIPKART&q=mobiles&store=tyy%2F4io&srno=s_1_21&otracker=search&otracker1=search&fm=organic&iid=99b9d46e-a15b-4807-86e0-048a6b3bcc66.MOBGCGVAXYT3EGYR.SEARCH&ppt=None&ppn=None&ssid=e5cg05rzk00000001663579597782&qH=eb4af0bf07c16429'}, {'title': 'realme C31 (Dark Green, 64 GB)', 'price': '₹9,499', 'rating': '4.4', 'link': '/realme-c31-dark-green-64-gb/p/itme0f2960da9bbb?pid=MOBGCGVAZXRCZJNE&lid=LSTMOBGCGVAZXRCZJNEHS21TJ&marketplace=FLIPKART&q=mobiles&store=tyy%2F4io&srno=s_1_22&otracker=search&otracker1=search&fm=organic&iid=99b9d46e-a15b-4807-86e0-048a6b3bcc66.MOBGCGVAZXRCZJNE.SEARCH&ppt=None&ppn=None&ssid=e5cg05rzk00000001663579597782&qH=eb4af0bf07c16429'}, {'title': 'realme 9 (Sunburst Gold, 128 GB)', 'price': '₹14,499', 'rating': '4.4', 'link': '/realme-9-sunburst-gold-128-gb/p/itm73722a6d35d36?pid=MOBGDYSHHVWMECHS&lid=LSTMOBGDYSHHVWMECHSTFXBTZ&marketplace=FLIPKART&q=mobiles&store=tyy%2F4io&srno=s_1_23&otracker=search&otracker1=search&fm=organic&iid=99b9d46e-a15b-4807-86e0-048a6b3bcc66.MOBGDYSHHVWMECHS.SEARCH&ppt=None&ppn=None&ssid=e5cg05rzk00000001663579597782&qH=eb4af0bf07c16429'}, {'title': 'IAIR D10', 'price': '₹1,072', 'rating': '4', 'link': '/iair-d10/p/itm68a13990b3f15?pid=MOBG7CMFC3KG9P3U&lid=LSTMOBG7CMFC3KG9P3UN9LTGZ&marketplace=FLIPKART&q=mobiles&store=tyy%2F4io&srno=s_1_24&otracker=search&otracker1=search&fm=organic&iid=en_f6jqYDYbNJdmDlxpKR9cEs9cz0uX%2F5E9wXYsm3dApDTSzM34TA2ihWZoTesmCKsXOHAT7cSatu0Ig7Xav%2BoiMA%3D%3D&ppt=None&ppn=None&ssid=e5cg05rzk00000001663579597782&qH=eb4af0bf07c16429'}]\n"
     ]
    }
   ],
   "source": [
    "out= extract_many(soup, target=target, items=items, title=title, price=price, rating=rating, link=link)\n",
    "\n",
    "print(out)"
   ]
  },
  {
   "cell_type": "code",
   "execution_count": 5,
   "metadata": {},
   "outputs": [
    {
     "name": "stdout",
     "output_type": "stream",
     "text": [
      "                                           title    price rating  \\\n",
      "0      Infinix HOT 12 Play (Horizon Blue, 64 GB)   ₹8,199    4.3   \n",
      "1          REDMI 9i Sport (Metallic Blue, 64 GB)   ₹7,999    4.4   \n",
      "2    Infinix HOT 12 Play (Daylight Green, 64 GB)   ₹8,199    4.3   \n",
      "3      Infinix HOT 12 Play (Racing Black, 64 GB)   ₹8,199    4.3   \n",
      "4    Infinix HOT 12 Play (Champagne Gold, 64 GB)   ₹8,199    4.3   \n",
      "5            REDMI 9i Sport (Coral Green, 64 GB)   ₹7,999    4.4   \n",
      "6                                       IAIR D40   ₹1,319    3.9   \n",
      "7                OPPO K10 (Black Carbon, 128 GB)  ₹13,490    4.4   \n",
      "8                  OPPO K10 (Blue Flame, 128 GB)  ₹13,490    4.4   \n",
      "9           REDMI 9i Sport (Carbon Black, 64 GB)   ₹7,999    4.4   \n",
      "10                                      IAIR D41   ₹1,319    3.7   \n",
      "11  SAMSUNG Galaxy F23 5G (Copper Blush, 128 GB)  ₹13,499    4.2   \n",
      "12  SAMSUNG Galaxy F23 5G (Forest Green, 128 GB)  ₹13,499    4.2   \n",
      "13          Infinix Smart 6 HD (Aqua Sky, 32 GB)   ₹6,199    4.6   \n",
      "14                                      IAIR D24   ₹1,128    3.8   \n",
      "15       Infinix Smart 6 HD (Origin Blue, 32 GB)   ₹6,199    4.6   \n",
      "16     SAMSUNG Galaxy F23 5G (Aqua Blue, 128 GB)  ₹13,499    4.2   \n",
      "17              realme C31 (Light Silver, 32 GB)   ₹8,299    4.6   \n",
      "18                                      IAIR D23   ₹1,097    4.1   \n",
      "19                realme C31 (Dark Green, 32 GB)   ₹8,299    4.6   \n",
      "20                realme C31 (Dark Green, 64 GB)   ₹9,499    4.4   \n",
      "21              realme 9 (Sunburst Gold, 128 GB)  ₹14,499    4.4   \n",
      "22                                      IAIR D10   ₹1,072      4   \n",
      "\n",
      "                                                 link  \n",
      "0   /infinix-hot-12-play-horizon-blue-64-gb/p/itmd...  \n",
      "1   /redmi-9i-sport-metallic-blue-64-gb/p/itmeb95d...  \n",
      "2   /infinix-hot-12-play-daylight-green-64-gb/p/it...  \n",
      "3   /infinix-hot-12-play-racing-black-64-gb/p/itmd...  \n",
      "4   /infinix-hot-12-play-champagne-gold-64-gb/p/it...  \n",
      "5   /redmi-9i-sport-coral-green-64-gb/p/itmb5e8d81...  \n",
      "6   /iair-d40/p/itm253472ba19c6b?pid=MOBGCNZF3VZHZ...  \n",
      "7   /oppo-k10-black-carbon-128-gb/p/itm6205e7e72fe...  \n",
      "8   /oppo-k10-blue-flame-128-gb/p/itm6205e7e72fe0c...  \n",
      "9   /redmi-9i-sport-carbon-black-64-gb/p/itm17ed46...  \n",
      "10  /iair-d41/p/itm0b7495cebc66e?pid=MOBGCNZQMEYAD...  \n",
      "11  /samsung-galaxy-f23-5g-copper-blush-128-gb/p/i...  \n",
      "12  /samsung-galaxy-f23-5g-forest-green-128-gb/p/i...  \n",
      "13  /infinix-smart-6-hd-aqua-sky-32-gb/p/itme9743e...  \n",
      "14  /iair-d24/p/itmebf306660cf33?pid=MOBG9PVRXGNUW...  \n",
      "15  /infinix-smart-6-hd-origin-blue-32-gb/p/itme97...  \n",
      "16  /samsung-galaxy-f23-5g-aqua-blue-128-gb/p/itme...  \n",
      "17  /realme-c31-light-silver-32-gb/p/itme0f2960da9...  \n",
      "18  /iair-d23/p/itmfde8fc33dc954?pid=MOBGCNZNZVWYS...  \n",
      "19  /realme-c31-dark-green-32-gb/p/itme0f2960da9bb...  \n",
      "20  /realme-c31-dark-green-64-gb/p/itme0f2960da9bb...  \n",
      "21  /realme-9-sunburst-gold-128-gb/p/itm73722a6d35...  \n",
      "22  /iair-d10/p/itm68a13990b3f15?pid=MOBG7CMFC3KG9...  \n"
     ]
    }
   ],
   "source": [
    "import pandas as pd\n",
    "df = pd.DataFrame(out)\n",
    "print(df)"
   ]
  },
  {
   "cell_type": "code",
   "execution_count": null,
   "metadata": {},
   "outputs": [],
   "source": []
  }
 ],
 "metadata": {
  "kernelspec": {
   "display_name": "Python 3.9.12 ('base')",
   "language": "python",
   "name": "python3"
  },
  "language_info": {
   "codemirror_mode": {
    "name": "ipython",
    "version": 3
   },
   "file_extension": ".py",
   "mimetype": "text/x-python",
   "name": "python",
   "nbconvert_exporter": "python",
   "pygments_lexer": "ipython3",
   "version": "3.9.12"
  },
  "orig_nbformat": 4,
  "vscode": {
   "interpreter": {
    "hash": "5b6002d1e928962cd19dde4287e8a81266a3dfa22c12012df96bb19a6e27b9c0"
   }
  }
 },
 "nbformat": 4,
 "nbformat_minor": 2
}
