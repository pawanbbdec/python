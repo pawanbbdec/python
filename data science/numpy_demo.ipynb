{
 "cells": [
  {
   "cell_type": "code",
   "execution_count": 1,
   "metadata": {},
   "outputs": [],
   "source": [
    "import numpy as np"
   ]
  },
  {
   "cell_type": "code",
   "execution_count": 2,
   "metadata": {},
   "outputs": [
    {
     "data": {
      "text/plain": [
       "array([1, 2, 3, 4, 5])"
      ]
     },
     "execution_count": 2,
     "metadata": {},
     "output_type": "execute_result"
    }
   ],
   "source": [
    "np.array([1,2,3,4,5])"
   ]
  },
  {
   "cell_type": "code",
   "execution_count": 3,
   "metadata": {},
   "outputs": [
    {
     "name": "stdout",
     "output_type": "stream",
     "text": [
      "[2 5 7 6 3 7 5]\n",
      "Total Elements ->  7\n",
      "Dimension wise Element ->  (7,)\n",
      "Dimension Count ->  1\n"
     ]
    }
   ],
   "source": [
    "x = np.array([2,5,7,6,3,7,5])\n",
    "print(x)\n",
    "print('Total Elements -> ',x.size)\n",
    "print('Dimension wise Element -> ',x.shape)\n",
    "print('Dimension Count -> ',x.ndim)"
   ]
  },
  {
   "cell_type": "code",
   "execution_count": 4,
   "metadata": {},
   "outputs": [
    {
     "name": "stdout",
     "output_type": "stream",
     "text": [
      "[[3 2 4]\n",
      " [7 5 6]]\n",
      "Total Elements ->  6\n",
      "Dimension wise Element ->  (2, 3)\n",
      "Dimension Count ->  2\n"
     ]
    }
   ],
   "source": [
    "y = np.array([[3,2,4],[7,5,6]])\n",
    "print(y)\n",
    "print('Total Elements -> ',y.size)\n",
    "print('Dimension wise Element -> ',y.shape)\n",
    "print('Dimension Count -> ',y.ndim)"
   ]
  },
  {
   "cell_type": "code",
   "execution_count": 5,
   "metadata": {},
   "outputs": [
    {
     "name": "stdout",
     "output_type": "stream",
     "text": [
      "[[3 2 4]\n",
      " [7 5 6]\n",
      " [8 6 3]]\n",
      "Total Elements ->  9\n",
      "Dimension wise Element ->  (3, 3)\n",
      "Dimension Count ->  2\n"
     ]
    }
   ],
   "source": [
    "z = np.array([[3,2,4],[7,5,6],[8,6,3]])\n",
    "print(z)\n",
    "print('Total Elements -> ',z.size)\n",
    "print('Dimension wise Element -> ',z.shape)\n",
    "print('Dimension Count -> ',z.ndim)"
   ]
  },
  {
   "cell_type": "code",
   "execution_count": 6,
   "metadata": {},
   "outputs": [
    {
     "name": "stdout",
     "output_type": "stream",
     "text": [
      "shape -  (3, 3, 5)\n",
      "[[[1 2 3 4 5]\n",
      "  [1 2 3 4 5]\n",
      "  [1 2 3 4 5]]\n",
      "\n",
      " [[1 2 3 4 5]\n",
      "  [1 2 3 4 5]\n",
      "  [1 2 3 4 5]]\n",
      "\n",
      " [[1 2 3 4 5]\n",
      "  [1 2 3 4 5]\n",
      "  [1 2 3 4 5]]]\n"
     ]
    }
   ],
   "source": [
    "x = [1,2,3,4,5]\n",
    "z = np.array([[x,x,x],[x,x,x],[x,x,x]])\n",
    "print('shape - ',z.shape)\n",
    "print(z)"
   ]
  },
  {
   "cell_type": "code",
   "execution_count": 9,
   "metadata": {},
   "outputs": [
    {
     "name": "stdout",
     "output_type": "stream",
     "text": [
      "(5, 5, 6)\n"
     ]
    }
   ],
   "source": [
    "x = [1,2,3,4,5,6]\n",
    "z = np.array([[x,x,x,x,x],[x,x,x,x,x],[x,x,x,x,x],[x,x,x,x,x],[x,x,x,x,x]])\n",
    "print(z.shape)"
   ]
  },
  {
   "cell_type": "code",
   "execution_count": 10,
   "metadata": {},
   "outputs": [
    {
     "data": {
      "text/plain": [
       "array([0. , 0.5, 1. , 1.5, 2. , 2.5, 3. , 3.5, 4. , 4.5, 5. , 5.5, 6. ,\n",
       "       6.5, 7. , 7.5, 8. , 8.5, 9. , 9.5])"
      ]
     },
     "execution_count": 10,
     "metadata": {},
     "output_type": "execute_result"
    }
   ],
   "source": [
    "np.arange(0,10,.5)                #np.arange(start,ending,change)"
   ]
  },
  {
   "cell_type": "code",
   "execution_count": 11,
   "metadata": {},
   "outputs": [
    {
     "data": {
      "text/plain": [
       "(42,)"
      ]
     },
     "execution_count": 11,
     "metadata": {},
     "output_type": "execute_result"
    }
   ],
   "source": [
    "d = np.arange(-10,11,0.5)\n",
    "d.shape"
   ]
  },
  {
   "cell_type": "code",
   "execution_count": 12,
   "metadata": {},
   "outputs": [
    {
     "data": {
      "text/plain": [
       "array([[-10. ,  -9.5,  -9. ,  -8.5,  -8. ,  -7.5,  -7. ],\n",
       "       [ -6.5,  -6. ,  -5.5,  -5. ,  -4.5,  -4. ,  -3.5],\n",
       "       [ -3. ,  -2.5,  -2. ,  -1.5,  -1. ,  -0.5,   0. ],\n",
       "       [  0.5,   1. ,   1.5,   2. ,   2.5,   3. ,   3.5],\n",
       "       [  4. ,   4.5,   5. ,   5.5,   6. ,   6.5,   7. ],\n",
       "       [  7.5,   8. ,   8.5,   9. ,   9.5,  10. ,  10.5]])"
      ]
     },
     "execution_count": 12,
     "metadata": {},
     "output_type": "execute_result"
    }
   ],
   "source": [
    "d.reshape(6,7)                 #reshape(rows,colum)"
   ]
  },
  {
   "cell_type": "code",
   "execution_count": 13,
   "metadata": {},
   "outputs": [
    {
     "data": {
      "text/plain": [
       "array([[[-10. ,  -9.5,  -9. ,  -8.5,  -8. ,  -7.5,  -7. ],\n",
       "        [ -6.5,  -6. ,  -5.5,  -5. ,  -4.5,  -4. ,  -3.5],\n",
       "        [ -3. ,  -2.5,  -2. ,  -1.5,  -1. ,  -0.5,   0. ]],\n",
       "\n",
       "       [[  0.5,   1. ,   1.5,   2. ,   2.5,   3. ,   3.5],\n",
       "        [  4. ,   4.5,   5. ,   5.5,   6. ,   6.5,   7. ],\n",
       "        [  7.5,   8. ,   8.5,   9. ,   9.5,  10. ,  10.5]]])"
      ]
     },
     "execution_count": 13,
     "metadata": {},
     "output_type": "execute_result"
    }
   ],
   "source": [
    "d.reshape(2,3,7)       #from above 6 can be written as 2*3 or 3*2.....therefore(2,3,7)"
   ]
  },
  {
   "cell_type": "code",
   "execution_count": 17,
   "metadata": {},
   "outputs": [
    {
     "data": {
      "text/plain": [
       "array([   1. ,  100.9,  200.8,  300.7,  400.6,  500.5,  600.4,  700.3,\n",
       "        800.2,  900.1, 1000. ])"
      ]
     },
     "execution_count": 17,
     "metadata": {},
     "output_type": "execute_result"
    }
   ],
   "source": [
    "a = np.linspace(1, 1000 , 11)         #(start,end, no. of items)      divide equally\n",
    "a "
   ]
  },
  {
   "cell_type": "code",
   "execution_count": 18,
   "metadata": {},
   "outputs": [
    {
     "data": {
      "text/plain": [
       "array([[1, 1, 3, 3, 2, 4, 3, 2, 4, 3],\n",
       "       [3, 4, 2, 2, 2, 4, 4, 2, 4, 1],\n",
       "       [1, 4, 1, 3, 2, 1, 4, 2, 3, 4],\n",
       "       [3, 4, 1, 2, 3, 1, 3, 1, 3, 4],\n",
       "       [3, 1, 1, 1, 2, 2, 1, 1, 3, 1],\n",
       "       [4, 4, 1, 3, 1, 1, 1, 1, 1, 2],\n",
       "       [1, 4, 4, 3, 3, 2, 1, 1, 2, 4],\n",
       "       [1, 3, 2, 2, 2, 1, 3, 3, 3, 2],\n",
       "       [1, 4, 4, 2, 4, 3, 4, 2, 3, 3],\n",
       "       [3, 4, 3, 3, 3, 3, 3, 4, 2, 1]])"
      ]
     },
     "execution_count": 18,
     "metadata": {},
     "output_type": "execute_result"
    }
   ],
   "source": [
    "np.random.randint(1,5,(10,10))     #(start,end,(a x b))      a x b matrix      from start to (end - 1)"
   ]
  },
  {
   "cell_type": "code",
   "execution_count": 20,
   "metadata": {},
   "outputs": [
    {
     "data": {
      "text/plain": [
       "array([[2, 1, 1, 1, 2, 2, 2, 2, 3, 5],\n",
       "       [5, 4, 2, 4, 5, 5, 3, 5, 1, 5],\n",
       "       [5, 1, 2, 2, 4, 2, 1, 4, 3, 5],\n",
       "       [2, 1, 3, 3, 3, 4, 5, 5, 2, 2],\n",
       "       [4, 1, 5, 3, 5, 3, 3, 4, 5, 3],\n",
       "       [2, 1, 4, 1, 4, 3, 1, 2, 4, 1],\n",
       "       [1, 4, 3, 2, 3, 2, 4, 4, 3, 3],\n",
       "       [1, 2, 3, 2, 3, 2, 2, 2, 2, 5],\n",
       "       [4, 3, 5, 4, 2, 5, 3, 5, 4, 4],\n",
       "       [1, 5, 4, 5, 4, 3, 5, 2, 2, 2]])"
      ]
     },
     "execution_count": 20,
     "metadata": {},
     "output_type": "execute_result"
    }
   ],
   "source": [
    "d = np.random.randint(1,6,(10,10))\n",
    "d"
   ]
  },
  {
   "cell_type": "code",
   "execution_count": 21,
   "metadata": {},
   "outputs": [
    {
     "data": {
      "text/plain": [
       "array([1, 5, 4, 5, 4, 3, 5, 2, 2, 2])"
      ]
     },
     "execution_count": 21,
     "metadata": {},
     "output_type": "execute_result"
    }
   ],
   "source": [
    "d[-1]"
   ]
  },
  {
   "cell_type": "code",
   "execution_count": 24,
   "metadata": {},
   "outputs": [
    {
     "data": {
      "text/plain": [
       "2"
      ]
     },
     "execution_count": 24,
     "metadata": {},
     "output_type": "execute_result"
    }
   ],
   "source": [
    "d[0,0]             #d[0][0]\n"
   ]
  },
  {
   "cell_type": "code",
   "execution_count": 25,
   "metadata": {},
   "outputs": [
    {
     "data": {
      "text/plain": [
       "4"
      ]
     },
     "execution_count": 25,
     "metadata": {},
     "output_type": "execute_result"
    }
   ],
   "source": [
    "d[3,5]"
   ]
  },
  {
   "cell_type": "code",
   "execution_count": 26,
   "metadata": {},
   "outputs": [
    {
     "data": {
      "text/plain": [
       "array([2, 5, 5, 2, 4, 2, 1, 1, 4, 1])"
      ]
     },
     "execution_count": 26,
     "metadata": {},
     "output_type": "execute_result"
    }
   ],
   "source": [
    "d[:,0]                 #all rows of index 0"
   ]
  },
  {
   "cell_type": "code",
   "execution_count": 27,
   "metadata": {},
   "outputs": [
    {
     "data": {
      "text/plain": [
       "array([2, 5, 4, 5, 4, 2, 4, 2, 5, 2])"
      ]
     },
     "execution_count": 27,
     "metadata": {},
     "output_type": "execute_result"
    }
   ],
   "source": [
    "d[:,-3]"
   ]
  },
  {
   "cell_type": "code",
   "execution_count": 28,
   "metadata": {},
   "outputs": [
    {
     "data": {
      "text/plain": [
       "array([1, 2, 2, 3, 5])"
      ]
     },
     "execution_count": 28,
     "metadata": {},
     "output_type": "execute_result"
    }
   ],
   "source": [
    "d[:5,2]                  #first five rows of column index 2"
   ]
  },
  {
   "cell_type": "code",
   "execution_count": 29,
   "metadata": {},
   "outputs": [
    {
     "data": {
      "text/plain": [
       "array([[2, 1, 1, 1, 2],\n",
       "       [5, 4, 2, 4, 5],\n",
       "       [5, 1, 2, 2, 4],\n",
       "       [2, 1, 3, 3, 3],\n",
       "       [4, 1, 5, 3, 5]])"
      ]
     },
     "execution_count": 29,
     "metadata": {},
     "output_type": "execute_result"
    }
   ],
   "source": [
    "d[:5, :5]           #first 5 rows first 5 column"
   ]
  },
  {
   "cell_type": "code",
   "execution_count": 30,
   "metadata": {},
   "outputs": [
    {
     "name": "stdout",
     "output_type": "stream",
     "text": [
      "[[6 7 5]\n",
      " [5 1 7]\n",
      " [4 9 9]] \n",
      " [[1 7 9]\n",
      " [6 8 2]\n",
      " [4 1 2]]\n"
     ]
    }
   ],
   "source": [
    "x = np.random.randint(1,10,(3,3))\n",
    "y = np.random.randint(1,10,(3,3))\n",
    "print(x ,'\\n', y)"
   ]
  },
  {
   "cell_type": "code",
   "execution_count": 31,
   "metadata": {},
   "outputs": [
    {
     "data": {
      "text/plain": [
       "array([[ 7, 14, 14],\n",
       "       [11,  9,  9],\n",
       "       [ 8, 10, 11]])"
      ]
     },
     "execution_count": 31,
     "metadata": {},
     "output_type": "execute_result"
    }
   ],
   "source": [
    "x + y"
   ]
  },
  {
   "cell_type": "code",
   "execution_count": 32,
   "metadata": {},
   "outputs": [
    {
     "data": {
      "text/plain": [
       "array([[ 5,  0, -4],\n",
       "       [-1, -7,  5],\n",
       "       [ 0,  8,  7]])"
      ]
     },
     "execution_count": 32,
     "metadata": {},
     "output_type": "execute_result"
    }
   ],
   "source": [
    "x - y"
   ]
  },
  {
   "cell_type": "code",
   "execution_count": 33,
   "metadata": {},
   "outputs": [
    {
     "data": {
      "text/plain": [
       "array([[ 6, 49, 45],\n",
       "       [30,  8, 14],\n",
       "       [16,  9, 18]])"
      ]
     },
     "execution_count": 33,
     "metadata": {},
     "output_type": "execute_result"
    }
   ],
   "source": [
    "x * y"
   ]
  },
  {
   "cell_type": "code",
   "execution_count": 35,
   "metadata": {},
   "outputs": [
    {
     "data": {
      "text/plain": [
       "array([[6.        , 1.        , 0.55555556],\n",
       "       [0.83333333, 0.125     , 3.5       ],\n",
       "       [1.        , 9.        , 4.5       ]])"
      ]
     },
     "execution_count": 35,
     "metadata": {},
     "output_type": "execute_result"
    }
   ],
   "source": [
    "x / y"
   ]
  },
  {
   "cell_type": "code",
   "execution_count": 36,
   "metadata": {},
   "outputs": [
    {
     "data": {
      "text/plain": [
       "array([[16, 17, 15],\n",
       "       [15, 11, 17],\n",
       "       [14, 19, 19]])"
      ]
     },
     "execution_count": 36,
     "metadata": {},
     "output_type": "execute_result"
    }
   ],
   "source": [
    "x + 10"
   ]
  },
  {
   "cell_type": "code",
   "execution_count": 37,
   "metadata": {},
   "outputs": [
    {
     "data": {
      "text/plain": [
       "array([[60, 70, 50],\n",
       "       [50, 10, 70],\n",
       "       [40, 90, 90]])"
      ]
     },
     "execution_count": 37,
     "metadata": {},
     "output_type": "execute_result"
    }
   ],
   "source": [
    "x * 10"
   ]
  },
  {
   "cell_type": "code",
   "execution_count": 38,
   "metadata": {},
   "outputs": [
    {
     "data": {
      "text/plain": [
       "array([[ 68, 103,  78],\n",
       "       [ 39,  50,  61],\n",
       "       [ 94, 109,  72]])"
      ]
     },
     "execution_count": 38,
     "metadata": {},
     "output_type": "execute_result"
    }
   ],
   "source": [
    "np.dot(x,y)                     #dot product"
   ]
  },
  {
   "cell_type": "code",
   "execution_count": 39,
   "metadata": {},
   "outputs": [
    {
     "data": {
      "text/plain": [
       "array([[ 68, 103,  78],\n",
       "       [ 39,  50,  61],\n",
       "       [ 94, 109,  72]])"
      ]
     },
     "execution_count": 39,
     "metadata": {},
     "output_type": "execute_result"
    }
   ],
   "source": [
    "np.matmul(x,y)                   #matrix multiplication"
   ]
  },
  {
   "cell_type": "code",
   "execution_count": 40,
   "metadata": {},
   "outputs": [
    {
     "data": {
      "text/plain": [
       "array([[ 6, 49, 45],\n",
       "       [30,  8, 14],\n",
       "       [16,  9, 18]])"
      ]
     },
     "execution_count": 40,
     "metadata": {},
     "output_type": "execute_result"
    }
   ],
   "source": [
    "np.multiply(x,y)"
   ]
  },
  {
   "cell_type": "code",
   "execution_count": 41,
   "metadata": {},
   "outputs": [
    {
     "data": {
      "text/plain": [
       "array([[ 28, -49,  35],\n",
       "       [-54,  32,  34],\n",
       "       [  9,  28, -32]])"
      ]
     },
     "execution_count": 41,
     "metadata": {},
     "output_type": "execute_result"
    }
   ],
   "source": [
    "np.cross(x,y)                 #cross product"
   ]
  },
  {
   "cell_type": "code",
   "execution_count": 42,
   "metadata": {},
   "outputs": [
    {
     "data": {
      "text/plain": [
       "array([[6, 7, 5, 1, 7, 9],\n",
       "       [5, 1, 7, 6, 8, 2],\n",
       "       [4, 9, 9, 4, 1, 2]])"
      ]
     },
     "execution_count": 42,
     "metadata": {},
     "output_type": "execute_result"
    }
   ],
   "source": [
    "np.hstack([x,y])                  #horizontal stacking"
   ]
  },
  {
   "cell_type": "code",
   "execution_count": 43,
   "metadata": {},
   "outputs": [
    {
     "data": {
      "text/plain": [
       "array([[6, 7, 5],\n",
       "       [5, 1, 7],\n",
       "       [4, 9, 9],\n",
       "       [1, 7, 9],\n",
       "       [6, 8, 2],\n",
       "       [4, 1, 2]])"
      ]
     },
     "execution_count": 43,
     "metadata": {},
     "output_type": "execute_result"
    }
   ],
   "source": [
    "np.vstack([x,y])               #vertical stacking"
   ]
  },
  {
   "cell_type": "code",
   "execution_count": 46,
   "metadata": {},
   "outputs": [
    {
     "data": {
      "text/plain": [
       "array([[6, 7, 5, 1, 7, 9],\n",
       "       [5, 1, 7, 6, 8, 2],\n",
       "       [4, 9, 9, 4, 1, 2]])"
      ]
     },
     "execution_count": 46,
     "metadata": {},
     "output_type": "execute_result"
    }
   ],
   "source": [
    "np.append(x , y , axis = 1)                #axix -> row wise or column wise"
   ]
  },
  {
   "cell_type": "code",
   "execution_count": 47,
   "metadata": {},
   "outputs": [
    {
     "data": {
      "text/plain": [
       "9"
      ]
     },
     "execution_count": 47,
     "metadata": {},
     "output_type": "execute_result"
    }
   ],
   "source": [
    "x.max()"
   ]
  },
  {
   "cell_type": "code",
   "execution_count": 48,
   "metadata": {},
   "outputs": [
    {
     "data": {
      "text/plain": [
       "array([6, 9, 9])"
      ]
     },
     "execution_count": 48,
     "metadata": {},
     "output_type": "execute_result"
    }
   ],
   "source": [
    "x.max(axis = 0)"
   ]
  },
  {
   "cell_type": "code",
   "execution_count": 50,
   "metadata": {},
   "outputs": [
    {
     "data": {
      "text/plain": [
       "array([5, 1, 4])"
      ]
     },
     "execution_count": 50,
     "metadata": {},
     "output_type": "execute_result"
    }
   ],
   "source": [
    "x.min(axis = 1)"
   ]
  },
  {
   "cell_type": "code",
   "execution_count": 51,
   "metadata": {},
   "outputs": [
    {
     "data": {
      "text/plain": [
       "array([6, 7, 5, 5, 1, 7, 4, 9, 9])"
      ]
     },
     "execution_count": 51,
     "metadata": {},
     "output_type": "execute_result"
    }
   ],
   "source": [
    "x.flatten()                       #change any dimension to 1D"
   ]
  },
  {
   "cell_type": "code",
   "execution_count": 52,
   "metadata": {},
   "outputs": [
    {
     "data": {
      "text/plain": [
       "array([5, 5, 4, 4, 5, 5, 5, 5, 5, 4, 4, 5, 4, 5, 5, 4, 5, 5, 4, 5, 4, 4,\n",
       "       4, 4, 4, 4, 5, 4, 5, 4, 5, 5, 4, 4, 5, 4, 5, 4, 5])"
      ]
     },
     "execution_count": 52,
     "metadata": {},
     "output_type": "execute_result"
    }
   ],
   "source": [
    "d[d > 3]                            #boolean filter"
   ]
  },
  {
   "cell_type": "code",
   "execution_count": 53,
   "metadata": {},
   "outputs": [
    {
     "data": {
      "text/plain": [
       "array([1, 1, 1, 1, 1, 1, 1, 1, 1, 1, 1, 1, 1, 1, 1])"
      ]
     },
     "execution_count": 53,
     "metadata": {},
     "output_type": "execute_result"
    }
   ],
   "source": [
    "d[d == 1]            #give all the ones"
   ]
  },
  {
   "cell_type": "code",
   "execution_count": null,
   "metadata": {},
   "outputs": [],
   "source": []
  }
 ],
 "metadata": {
  "kernelspec": {
   "display_name": "Python 3.9.13 ('base')",
   "language": "python",
   "name": "python3"
  },
  "language_info": {
   "codemirror_mode": {
    "name": "ipython",
    "version": 3
   },
   "file_extension": ".py",
   "mimetype": "text/x-python",
   "name": "python",
   "nbconvert_exporter": "python",
   "pygments_lexer": "ipython3",
   "version": "3.9.13"
  },
  "orig_nbformat": 4,
  "vscode": {
   "interpreter": {
    "hash": "70f018fd7121d982665974a4a43426885471417973fa08103dfbe522c14d001e"
   }
  }
 },
 "nbformat": 4,
 "nbformat_minor": 2
}
